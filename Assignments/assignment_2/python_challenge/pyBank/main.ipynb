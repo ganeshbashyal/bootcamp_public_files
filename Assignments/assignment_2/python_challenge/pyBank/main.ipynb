{
 "cells": [
  {
   "cell_type": "code",
   "execution_count": 1,
   "id": "5e8f201b-2b38-4207-9f14-c078f31899da",
   "metadata": {},
   "outputs": [],
   "source": [
    "# Import Libraries \n",
    "from pathlib import Path\n",
    "import pandas as pd\n",
    "import numpy as np\n",
    "\n",
    "#Create File Path\n",
    "filepath = Path(\"../Resources/budget_data.csv\")\n",
    "\n"
   ]
  },
  {
   "cell_type": "code",
   "execution_count": 20,
   "id": "c31b7dfa-99b8-4646-bb7c-74312fb58317",
   "metadata": {},
   "outputs": [
    {
     "name": "stdout",
     "output_type": "stream",
     "text": [
      "Date,Profit/Losses\n",
      "Jan-2010,867884\n",
      "Feb-2010,984655\n",
      "Mar-2010,322013\n",
      "Apr-2010,-69417\n",
      "May-2010,310503\n",
      "Jun-2010,522857\n",
      "Jul-2010,1033096\n",
      "Aug-2010,604885\n",
      "Sep-2010,-216386\n",
      "Oct-2010,477532\n",
      "Nov-2010,893810\n",
      "Dec-2010,-80353\n",
      "Jan-2011,779806\n",
      "Feb-2011,-335203\n",
      "Mar-2011,697845\n",
      "Apr-2011,793163\n",
      "May-2011,485070\n",
      "Jun-2011,584122\n",
      "Jul-2011,62729\n",
      "Aug-2011,668179\n",
      "Sep-2011,899906\n",
      "Oct-2011,834719\n",
      "Nov-2011,132003\n",
      "Dec-2011,309978\n",
      "Jan-2012,-755566\n",
      "Feb-2012,1170593\n",
      "Mar-2012,252788\n",
      "Apr-2012,1151518\n",
      "May-2012,817256\n",
      "Jun-2012,570757\n",
      "Jul-2012,506702\n",
      "Aug-2012,-1022534\n",
      "Sep-2012,475062\n",
      "Oct-2012,779976\n",
      "Nov-2012,144175\n",
      "Dec-2012,542494\n",
      "Jan-2013,359333\n",
      "Feb-2013,321469\n",
      "Mar-2013,67780\n",
      "Apr-2013,471435\n",
      "May-2013,565603\n",
      "Jun-2013,872480\n",
      "Jul-2013,789480\n",
      "Aug-2013,999942\n",
      "Sep-2013,-1196225\n",
      "Oct-2013,268997\n",
      "Nov-2013,-687986\n",
      "Dec-2013,1150461\n",
      "Jan-2014,682458\n",
      "Feb-2014,617856\n",
      "Mar-2014,824098\n",
      "Apr-2014,581943\n",
      "May-2014,132864\n",
      "Jun-2014,448062\n",
      "Jul-2014,689161\n",
      "Aug-2014,800701\n",
      "Sep-2014,1166643\n",
      "Oct-2014,947333\n",
      "Nov-2014,578668\n",
      "Dec-2014,988505\n",
      "Jan-2015,1139715\n",
      "Feb-2015,1029471\n",
      "Mar-2015,687533\n",
      "Apr-2015,-524626\n",
      "May-2015,158620\n",
      "Jun-2015,87795\n",
      "Jul-2015,423389\n",
      "Aug-2015,840723\n",
      "Sep-2015,568529\n",
      "Oct-2015,332067\n",
      "Nov-2015,989499\n",
      "Dec-2015,778237\n",
      "Jan-2016,650000\n",
      "Feb-2016,-1100387\n",
      "Mar-2016,-174946\n",
      "Apr-2016,757143\n",
      "May-2016,445709\n",
      "Jun-2016,712961\n",
      "Jul-2016,-1163797\n",
      "Aug-2016,569899\n",
      "Sep-2016,768450\n",
      "Oct-2016,102685\n",
      "Nov-2016,795914\n",
      "Dec-2016,60988\n",
      "Jan-2017,138230\n",
      "Feb-2017,671099\n",
      "\n"
     ]
    }
   ],
   "source": [
    "# Display File with Open FilePath\n",
    "with open(filepath, 'r') as file:\n",
    "    data = file.read()    \n",
    "    print(data) \n"
   ]
  },
  {
   "cell_type": "code",
   "execution_count": 24,
   "id": "d61988a7-1e0a-4ca1-960b-10ad7aaebe3c",
   "metadata": {},
   "outputs": [
    {
     "ename": "ValueError",
     "evalue": "invalid literal for int() with base 10: 'Date,Profit/Losses\\n'",
     "output_type": "error",
     "traceback": [
      "\u001b[1;31m---------------------------------------------------------------------------\u001b[0m",
      "\u001b[1;31mValueError\u001b[0m                                Traceback (most recent call last)",
      "\u001b[1;32m<ipython-input-24-80d9b5a7ff89>\u001b[0m in \u001b[0;36m<module>\u001b[1;34m\u001b[0m\n\u001b[0;32m      2\u001b[0m     \u001b[1;32mfor\u001b[0m \u001b[0mline\u001b[0m \u001b[1;32min\u001b[0m \u001b[0mfile\u001b[0m\u001b[1;33m:\u001b[0m\u001b[1;33m\u001b[0m\u001b[1;33m\u001b[0m\u001b[0m\n\u001b[0;32m      3\u001b[0m \u001b[1;33m\u001b[0m\u001b[0m\n\u001b[1;32m----> 4\u001b[1;33m         \u001b[0mamount\u001b[0m \u001b[1;33m=\u001b[0m \u001b[0mint\u001b[0m\u001b[1;33m(\u001b[0m\u001b[0mline\u001b[0m\u001b[1;33m)\u001b[0m\u001b[1;33m\u001b[0m\u001b[1;33m\u001b[0m\u001b[0m\n\u001b[0m\u001b[0;32m      5\u001b[0m \u001b[1;33m\u001b[0m\u001b[0m\n",
      "\u001b[1;31mValueError\u001b[0m: invalid literal for int() with base 10: 'Date,Profit/Losses\\n'"
     ]
    }
   ],
   "source": [
    "with open(filepath, 'r') as file:\n",
    "    for line in file:\n",
    "        \n",
    "        amount = int(line)\n",
    "        "
   ]
  },
  {
   "cell_type": "code",
   "execution_count": 23,
   "id": "27299bd9-4b6f-49f7-8e2e-bc570a75a1da",
   "metadata": {},
   "outputs": [
    {
     "ename": "ValueError",
     "evalue": "I/O operation on closed file.",
     "output_type": "error",
     "traceback": [
      "\u001b[1;31m---------------------------------------------------------------------------\u001b[0m",
      "\u001b[1;31mValueError\u001b[0m                                Traceback (most recent call last)",
      "\u001b[1;32m<ipython-input-23-6bf6a307a3ef>\u001b[0m in \u001b[0;36m<module>\u001b[1;34m\u001b[0m\n\u001b[0;32m      1\u001b[0m \u001b[1;31m# To Do it Line by Line\u001b[0m\u001b[1;33m\u001b[0m\u001b[1;33m\u001b[0m\u001b[1;33m\u001b[0m\u001b[0m\n\u001b[1;32m----> 2\u001b[1;33m \u001b[1;32mfor\u001b[0m \u001b[0mline\u001b[0m \u001b[1;32min\u001b[0m \u001b[0mfile\u001b[0m\u001b[1;33m:\u001b[0m\u001b[1;33m\u001b[0m\u001b[1;33m\u001b[0m\u001b[0m\n\u001b[0m\u001b[0;32m      3\u001b[0m     \u001b[0mprint\u001b[0m\u001b[1;33m(\u001b[0m\u001b[1;34mf'day {line_num}:{line}'\u001b[0m\u001b[1;33m)\u001b[0m\u001b[1;33m\u001b[0m\u001b[1;33m\u001b[0m\u001b[0m\n\u001b[0;32m      4\u001b[0m     \u001b[0mline_num\u001b[0m \u001b[1;33m=\u001b[0m \u001b[0mline_num\u001b[0m \u001b[1;33m+\u001b[0m\u001b[1;36m1\u001b[0m\u001b[1;33m\u001b[0m\u001b[1;33m\u001b[0m\u001b[0m\n",
      "\u001b[1;31mValueError\u001b[0m: I/O operation on closed file."
     ]
    }
   ],
   "source": [
    "# To Do it Line by Line\n",
    "#(for line in file://    print(f'day {line_num}:{line}') //    line_num = line_num +1"
   ]
  },
  {
   "cell_type": "code",
   "execution_count": 17,
   "id": "7060f3ff-fe20-41e6-b442-7b2ba6907195",
   "metadata": {},
   "outputs": [
    {
     "ename": "TypeError",
     "evalue": "can only concatenate str (not \"int\") to str",
     "output_type": "error",
     "traceback": [
      "\u001b[1;31m---------------------------------------------------------------------------\u001b[0m",
      "\u001b[1;31mTypeError\u001b[0m                                 Traceback (most recent call last)",
      "\u001b[1;32m<ipython-input-17-a467f1961d4b>\u001b[0m in \u001b[0;36m<module>\u001b[1;34m\u001b[0m\n\u001b[0;32m      1\u001b[0m \u001b[1;32mfor\u001b[0m \u001b[0mi\u001b[0m \u001b[1;32min\u001b[0m \u001b[0mdata\u001b[0m\u001b[1;33m:\u001b[0m\u001b[1;33m\u001b[0m\u001b[1;33m\u001b[0m\u001b[0m\n\u001b[1;32m----> 2\u001b[1;33m     \u001b[0mprint\u001b[0m\u001b[1;33m(\u001b[0m\u001b[0mi\u001b[0m\u001b[1;33m+\u001b[0m\u001b[1;36m1\u001b[0m\u001b[1;33m)\u001b[0m\u001b[1;33m\u001b[0m\u001b[1;33m\u001b[0m\u001b[0m\n\u001b[0m",
      "\u001b[1;31mTypeError\u001b[0m: can only concatenate str (not \"int\") to str"
     ]
    }
   ],
   "source": [
    "for i in data:\n",
    "    print(i+1)"
   ]
  },
  {
   "cell_type": "code",
   "execution_count": 10,
   "id": "feb2627e-8195-42f9-b5b5-e623c533cec4",
   "metadata": {},
   "outputs": [
    {
     "ename": "IndentationError",
     "evalue": "unexpected indent (<ipython-input-10-1f8ff7c5139f>, line 10)",
     "output_type": "error",
     "traceback": [
      "\u001b[1;36m  File \u001b[1;32m\"<ipython-input-10-1f8ff7c5139f>\"\u001b[1;36m, line \u001b[1;32m10\u001b[0m\n\u001b[1;33m    print([],[])\u001b[0m\n\u001b[1;37m    ^\u001b[0m\n\u001b[1;31mIndentationError\u001b[0m\u001b[1;31m:\u001b[0m unexpected indent\n"
     ]
    }
   ],
   "source": [
    "# Create a loop to separate date and amount for pnl in data:\n",
    "profit = 0\n",
    "loss = 0\n",
    "maximum_profit =0\n",
    "maximum_loss=0\n",
    "total =0\n",
    "\n",
    "\n",
    "    \n",
    "# for pnl in data:\n",
    "  #  print([],[])\n",
    "    \n",
    "    \n",
    "#print (pnl)\n"
   ]
  },
  {
   "cell_type": "code",
   "execution_count": 15,
   "id": "754c7673-aa55-4b4f-8838-0091e575b34a",
   "metadata": {},
   "outputs": [
    {
     "ename": "TypeError",
     "evalue": "'str' object does not support item assignment",
     "output_type": "error",
     "traceback": [
      "\u001b[1;31m---------------------------------------------------------------------------\u001b[0m",
      "\u001b[1;31mTypeError\u001b[0m                                 Traceback (most recent call last)",
      "\u001b[1;32m<ipython-input-15-186cc1048835>\u001b[0m in \u001b[0;36m<module>\u001b[1;34m\u001b[0m\n\u001b[1;32m----> 1\u001b[1;33m \u001b[0mdata\u001b[0m\u001b[1;33m[\u001b[0m\u001b[1;34m\"Mar-2018\"\u001b[0m\u001b[1;33m]\u001b[0m \u001b[1;33m=\u001b[0m \u001b[1;36m55555\u001b[0m\u001b[1;33m\u001b[0m\u001b[1;33m\u001b[0m\u001b[0m\n\u001b[0m",
      "\u001b[1;31mTypeError\u001b[0m: 'str' object does not support item assignment"
     ]
    }
   ],
   "source": [
    "data[\"Mar-2018\"] = 55555"
   ]
  },
  {
   "cell_type": "code",
   "execution_count": null,
   "id": "44a0351e-181d-4261-81e7-735bd044ff05",
   "metadata": {},
   "outputs": [],
   "source": []
  }
 ],
 "metadata": {
  "kernelspec": {
   "display_name": "Python 3",
   "language": "python",
   "name": "python3"
  },
  "language_info": {
   "codemirror_mode": {
    "name": "ipython",
    "version": 3
   },
   "file_extension": ".py",
   "mimetype": "text/x-python",
   "name": "python",
   "nbconvert_exporter": "python",
   "pygments_lexer": "ipython3",
   "version": "3.8.8"
  }
 },
 "nbformat": 4,
 "nbformat_minor": 5
}
