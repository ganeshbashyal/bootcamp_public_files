{
 "cells": [
  {
   "cell_type": "markdown",
   "metadata": {},
   "source": [
    "# Unit 5 - Financial Planning"
   ]
  },
  {
   "cell_type": "code",
   "execution_count": 38,
   "metadata": {},
   "outputs": [],
   "source": [
    "# Initial imports\n",
    "import os\n",
    "import requests\n",
    "import json\n",
    "import pandas as pd\n",
    "from dotenv import load_dotenv\n",
    "import alpaca_trade_api as tradeapi\n",
    "from MCForecastTools import MCSimulation\n",
    "\n",
    "%matplotlib inline"
   ]
  },
  {
   "cell_type": "code",
   "execution_count": 39,
   "metadata": {},
   "outputs": [
    {
     "data": {
      "text/plain": [
       "True"
      ]
     },
     "execution_count": 39,
     "metadata": {},
     "output_type": "execute_result"
    }
   ],
   "source": [
    "# Load .env enviroment variables\n",
    "load_dotenv()"
   ]
  },
  {
   "cell_type": "code",
   "execution_count": 40,
   "metadata": {},
   "outputs": [],
   "source": [
    "# Format current date as ISO format\n",
    "today = pd.Timestamp(\"2022-06-12\", tz=\"America/New_York\").isoformat()"
   ]
  },
  {
   "cell_type": "markdown",
   "metadata": {},
   "source": [
    "## Part 1 - Personal Finance Planner"
   ]
  },
  {
   "cell_type": "markdown",
   "metadata": {},
   "source": [
    "### Collect Crypto Prices Using the `requests` Library"
   ]
  },
  {
   "cell_type": "code",
   "execution_count": 41,
   "metadata": {},
   "outputs": [],
   "source": [
    "# Set current amount of crypto assets\n",
    "my_btc = 1.2\n",
    "my_eth = 5.3\n",
    "\n",
    "\n",
    "\n",
    "# YOUR CODE HERE!"
   ]
  },
  {
   "cell_type": "code",
   "execution_count": 42,
   "metadata": {},
   "outputs": [],
   "source": [
    "# Crypto API URLs\n",
    "btc_url = \"https://api.alternative.me/v2/ticker/Bitcoin/?convert=CAD\"\n",
    "eth_url = \"https://api.alternative.me/v2/ticker/Ethereum/?convert=CAD\""
   ]
  },
  {
   "cell_type": "code",
   "execution_count": 43,
   "metadata": {},
   "outputs": [
    {
     "name": "stdout",
     "output_type": "stream",
     "text": [
      "b'{\\n\\t\"data\": {\\n\\t\\t\"1\": {\\n\\t\\t\\t\"id\": 1,\\n\\t\\t\\t\"name\": \"Bitcoin\",\\n\\t\\t\\t\"symbol\": \"BTC\",\\n\\t\\t\\t\"website_slug\": \"bitcoin\",\\n\\t\\t\\t\"rank\": 1,\\n\\t\\t\\t\"circulating_supply\": 19078437,\\n\\t\\t\\t\"total_supply\": 19078437,\\n\\t\\t\\t\"max_supply\": 21000000,\\n\\t\\t\\t\"quotes\": {\\n\\t\\t\\t\\t\"USD\": {\\n\\t\\t\\t\\t\\t\"price\": 21301.0000000000000000,\\n\\t\\t\\t\\t\\t\"volume_24h\": 16384887532,\\n\\t\\t\\t\\t\\t\"market_cap\": 406640894320,\\n\\t\\t\\t\\t\\t\"percentage_change_1h\": -0.3001368485693890,\\n\\t\\t\\t\\t\\t\"percentage_change_24h\": -1.8437824239682200,\\n\\t\\t\\t\\t\\t\"percentage_change_7d\": 3.8246648513121000,\\n\\t\\t\\t\\t\\t\"percent_change_1h\": -0.3001368485693890,\\n\\t\\t\\t\\t\\t\"percent_change_24h\": -1.8437824239682200,\\n\\t\\t\\t\\t\\t\"percent_change_7d\": 3.8246648513121000\\n\\t\\t\\t\\t},\\n\\t\\t\\t\\t\"CAD\": {\\n\\t\\t\\t\\t\\t\"price\": 27482.5502,\\n\\t\\t\\t\\t\\t\"volume_24h\": 21139781893.7864,\\n\\t\\t\\t\\t\\t\"market_cap\": 524648081851.664,\\n\\t\\t\\t\\t\\t\"percent_change_1h\": -0.3001368485693890,\\n\\t\\t\\t\\t\\t\"percent_change_24h\": -1.8437824239682200,\\n\\t\\t\\t\\t\\t\"percent_change_7d\": 3.8246648513121000\\n\\t\\t\\t\\t}\\n\\t\\t\\t},\\n\\t\\t\\t\"last_updated\": 1656332701\\n\\t\\t}\\n\\t},\\n\\t\"metadata\": {\\n\\t\\t\"timestamp\": 1656332701,\\n\\t\\t\"num_cryptocurrencies\": 3116,\\n\\t\\t\"error\": null\\n\\t}\\n}'\n",
      "b'{\\n\\t\"data\": {\\n\\t\\t\"1027\": {\\n\\t\\t\\t\"id\": 1027,\\n\\t\\t\\t\"name\": \"Ethereum\",\\n\\t\\t\\t\"symbol\": \"ETH\",\\n\\t\\t\\t\"website_slug\": \"ethereum\",\\n\\t\\t\\t\"rank\": 2,\\n\\t\\t\\t\"circulating_supply\": 121320490,\\n\\t\\t\\t\"total_supply\": 121320490,\\n\\t\\t\\t\"max_supply\": 0,\\n\\t\\t\\t\"quotes\": {\\n\\t\\t\\t\\t\"USD\": {\\n\\t\\t\\t\\t\\t\"price\": 1221.5000000000000000,\\n\\t\\t\\t\\t\\t\"volume_24h\": 11729238547,\\n\\t\\t\\t\\t\\t\"market_cap\": 148262529979,\\n\\t\\t\\t\\t\\t\"percentage_change_1h\": -0.7587627793807060,\\n\\t\\t\\t\\t\\t\"percentage_change_24h\": -3.6732729951591000,\\n\\t\\t\\t\\t\\t\"percentage_change_7d\": 8.5049398269865900,\\n\\t\\t\\t\\t\\t\"percent_change_1h\": -0.7587627793807060,\\n\\t\\t\\t\\t\\t\"percent_change_24h\": -3.6732729951591000,\\n\\t\\t\\t\\t\\t\"percent_change_7d\": 8.5049398269865900\\n\\t\\t\\t\\t},\\n\\t\\t\\t\\t\"CAD\": {\\n\\t\\t\\t\\t\\t\"price\": 1575.9793,\\n\\t\\t\\t\\t\\t\"volume_24h\": 15133063573.3394,\\n\\t\\t\\t\\t\\t\"market_cap\": 191288316178.906,\\n\\t\\t\\t\\t\\t\"percent_change_1h\": -0.7587627793807060,\\n\\t\\t\\t\\t\\t\"percent_change_24h\": -3.6732729951591000,\\n\\t\\t\\t\\t\\t\"percent_change_7d\": 8.5049398269865900\\n\\t\\t\\t\\t}\\n\\t\\t\\t},\\n\\t\\t\\t\"last_updated\": 1656332662\\n\\t\\t}\\n\\t},\\n\\t\"metadata\": {\\n\\t\\t\"timestamp\": 1656332662,\\n\\t\\t\"num_cryptocurrencies\": 3116,\\n\\t\\t\"error\": null\\n\\t}\\n}'\n"
     ]
    }
   ],
   "source": [
    "# BTC  and ETH Response Data execute get request and store as a variable and display data\n",
    "\n",
    "btc_response_data = requests.get(btc_url)\n",
    "btc_response_content = btc_response_data.content\n",
    "print(btc_response_content)\n",
    "eth_response_data = requests.get(eth_url)\n",
    "eth_response_content = eth_response_data.content\n",
    "print(eth_response_content) "
   ]
  },
  {
   "cell_type": "code",
   "execution_count": 44,
   "metadata": {},
   "outputs": [
    {
     "name": "stdout",
     "output_type": "stream",
     "text": [
      "{\n",
      "    \"data\": {\n",
      "        \"1\": {\n",
      "            \"id\": 1,\n",
      "            \"name\": \"Bitcoin\",\n",
      "            \"symbol\": \"BTC\",\n",
      "            \"website_slug\": \"bitcoin\",\n",
      "            \"rank\": 1,\n",
      "            \"circulating_supply\": 19078437,\n",
      "            \"total_supply\": 19078437,\n",
      "            \"max_supply\": 21000000,\n",
      "            \"quotes\": {\n",
      "                \"USD\": {\n",
      "                    \"price\": 21301.0,\n",
      "                    \"volume_24h\": 16384887532,\n",
      "                    \"market_cap\": 406640894320,\n",
      "                    \"percentage_change_1h\": -0.300136848569389,\n",
      "                    \"percentage_change_24h\": -1.84378242396822,\n",
      "                    \"percentage_change_7d\": 3.8246648513121,\n",
      "                    \"percent_change_1h\": -0.300136848569389,\n",
      "                    \"percent_change_24h\": -1.84378242396822,\n",
      "                    \"percent_change_7d\": 3.8246648513121\n",
      "                },\n",
      "                \"CAD\": {\n",
      "                    \"price\": 27482.5502,\n",
      "                    \"volume_24h\": 21139781893.7864,\n",
      "                    \"market_cap\": 524648081851.664,\n",
      "                    \"percent_change_1h\": -0.300136848569389,\n",
      "                    \"percent_change_24h\": -1.84378242396822,\n",
      "                    \"percent_change_7d\": 3.8246648513121\n",
      "                }\n",
      "            },\n",
      "            \"last_updated\": 1656332701\n",
      "        }\n",
      "    },\n",
      "    \"metadata\": {\n",
      "        \"timestamp\": 1656332701,\n",
      "        \"num_cryptocurrencies\": 3116,\n",
      "        \"error\": null\n",
      "    }\n",
      "}\n"
     ]
    }
   ],
   "source": [
    "# change to json and add indents to json and to output to BTC_data\n",
    "btc_data = btc_response_data.json()\n",
    "print(json.dumps(btc_data, indent=4))\n"
   ]
  },
  {
   "cell_type": "code",
   "execution_count": 45,
   "metadata": {},
   "outputs": [
    {
     "name": "stdout",
     "output_type": "stream",
     "text": [
      "{\n",
      "    \"data\": {\n",
      "        \"1027\": {\n",
      "            \"id\": 1027,\n",
      "            \"name\": \"Ethereum\",\n",
      "            \"symbol\": \"ETH\",\n",
      "            \"website_slug\": \"ethereum\",\n",
      "            \"rank\": 2,\n",
      "            \"circulating_supply\": 121320490,\n",
      "            \"total_supply\": 121320490,\n",
      "            \"max_supply\": 0,\n",
      "            \"quotes\": {\n",
      "                \"USD\": {\n",
      "                    \"price\": 1221.5,\n",
      "                    \"volume_24h\": 11729238547,\n",
      "                    \"market_cap\": 148262529979,\n",
      "                    \"percentage_change_1h\": -0.758762779380706,\n",
      "                    \"percentage_change_24h\": -3.6732729951591,\n",
      "                    \"percentage_change_7d\": 8.50493982698659,\n",
      "                    \"percent_change_1h\": -0.758762779380706,\n",
      "                    \"percent_change_24h\": -3.6732729951591,\n",
      "                    \"percent_change_7d\": 8.50493982698659\n",
      "                },\n",
      "                \"CAD\": {\n",
      "                    \"price\": 1575.9793,\n",
      "                    \"volume_24h\": 15133063573.3394,\n",
      "                    \"market_cap\": 191288316178.906,\n",
      "                    \"percent_change_1h\": -0.758762779380706,\n",
      "                    \"percent_change_24h\": -3.6732729951591,\n",
      "                    \"percent_change_7d\": 8.50493982698659\n",
      "                }\n",
      "            },\n",
      "            \"last_updated\": 1656332662\n",
      "        }\n",
      "    },\n",
      "    \"metadata\": {\n",
      "        \"timestamp\": 1656332662,\n",
      "        \"num_cryptocurrencies\": 3116,\n",
      "        \"error\": null\n",
      "    }\n",
      "}\n"
     ]
    }
   ],
   "source": [
    "# change to json and add indents to json and to output to Eth_data\n",
    "\n",
    "eth_data = eth_response_data.json()\n",
    "print(json.dumps(eth_data, indent=4))"
   ]
  },
  {
   "cell_type": "code",
   "execution_count": 46,
   "metadata": {},
   "outputs": [
    {
     "name": "stdout",
     "output_type": "stream",
     "text": [
      "BTC Price : 27482.5502\n",
      "ETH Price : 1575.9793\n",
      "The current value of your 1.2 BTC is $32979.06024\n",
      "The current value of your 5.3 ETH is $8352.690289999999\n",
      "Current Crypto value: 41331.75053\n"
     ]
    }
   ],
   "source": [
    "# Fetch current BTC price\n",
    "btc_price = btc_data[\"data\"][\"1\"][\"quotes\"][\"CAD\"][\"price\"]\n",
    "\n",
    "\n",
    "# Fetch current ETH price\n",
    "\n",
    "eth_price = eth_data[\"data\"][\"1027\"][\"quotes\"][\"CAD\"][\"price\"]\n",
    "\n",
    "# Compute current value of my crpto\n",
    "print(f'BTC Price : {btc_price}')\n",
    "print(f'ETH Price : {eth_price}')\n",
    "\n",
    "my_btc_value = (my_btc*btc_price)\n",
    "my_eth_value = (my_eth*eth_price)\n",
    "current_crypto_value = (my_btc_value + my_eth_value)\n",
    "\n",
    "\n",
    "\n",
    "# YOUR CODE HERE!\n",
    "\n",
    "# Print current crypto wallet balance\n",
    "print(f'The current value of your {my_btc} BTC is ${my_btc_value}')\n",
    "print(f'The current value of your {my_eth} ETH is ${my_eth_value}')\n",
    "print(f'Current Crypto value: {current_crypto_value}')"
   ]
  },
  {
   "cell_type": "markdown",
   "metadata": {},
   "source": [
    "### Collect Investments Data Using Alpaca: `SPY` (stocks) and `AGG` (bonds)"
   ]
  },
  {
   "cell_type": "code",
   "execution_count": 47,
   "metadata": {},
   "outputs": [],
   "source": [
    "# Set current amount of shares\n",
    "my_agg = 200\n",
    "my_spy = 50"
   ]
  },
  {
   "cell_type": "code",
   "execution_count": 48,
   "metadata": {},
   "outputs": [],
   "source": [
    "# Set Alpaca API key and secret\n",
    "alpaca_api_key = os.getenv(\"ALPACA_API_KEY\")\n",
    "alpaca_secret_key = os.getenv(\"ALPACA_SECRET_KEY\")\n",
    "\n",
    "# YOUR CODE HERE!\n",
    "\n",
    "# Create the Alpaca API object\n",
    "\n",
    "# Create the Alpaca API object\n",
    "alpaca = tradeapi.REST(\n",
    "    alpaca_api_key,\n",
    "    alpaca_secret_key,\n",
    "    api_version=\"v2\")\n",
    "# YOUR CODE HERE!"
   ]
  },
  {
   "cell_type": "code",
   "execution_count": 49,
   "metadata": {},
   "outputs": [
    {
     "name": "stdout",
     "output_type": "stream",
     "text": [
      "Alpaca Key type: <class 'str'>\n",
      "Alpaca Secret Key type: <class 'str'>\n"
     ]
    }
   ],
   "source": [
    "# Verify that Alpaca key and secret were correctly loaded\n",
    "print(f\"Alpaca Key type: {type(alpaca_api_key)}\")\n",
    "print(f\"Alpaca Secret Key type: {type(alpaca_secret_key)}\")"
   ]
  },
  {
   "cell_type": "code",
   "execution_count": 50,
   "metadata": {},
   "outputs": [
    {
     "data": {
      "text/html": [
       "<div>\n",
       "<style scoped>\n",
       "    .dataframe tbody tr th:only-of-type {\n",
       "        vertical-align: middle;\n",
       "    }\n",
       "\n",
       "    .dataframe tbody tr th {\n",
       "        vertical-align: top;\n",
       "    }\n",
       "\n",
       "    .dataframe thead tr th {\n",
       "        text-align: left;\n",
       "    }\n",
       "\n",
       "    .dataframe thead tr:last-of-type th {\n",
       "        text-align: right;\n",
       "    }\n",
       "</style>\n",
       "<table border=\"1\" class=\"dataframe\">\n",
       "  <thead>\n",
       "    <tr>\n",
       "      <th></th>\n",
       "      <th colspan=\"7\" halign=\"left\">AGG</th>\n",
       "      <th colspan=\"7\" halign=\"left\">SPY</th>\n",
       "    </tr>\n",
       "    <tr>\n",
       "      <th></th>\n",
       "      <th>open</th>\n",
       "      <th>high</th>\n",
       "      <th>low</th>\n",
       "      <th>close</th>\n",
       "      <th>volume</th>\n",
       "      <th>trade_count</th>\n",
       "      <th>vwap</th>\n",
       "      <th>open</th>\n",
       "      <th>high</th>\n",
       "      <th>low</th>\n",
       "      <th>close</th>\n",
       "      <th>volume</th>\n",
       "      <th>trade_count</th>\n",
       "      <th>vwap</th>\n",
       "    </tr>\n",
       "    <tr>\n",
       "      <th>timestamp</th>\n",
       "      <th></th>\n",
       "      <th></th>\n",
       "      <th></th>\n",
       "      <th></th>\n",
       "      <th></th>\n",
       "      <th></th>\n",
       "      <th></th>\n",
       "      <th></th>\n",
       "      <th></th>\n",
       "      <th></th>\n",
       "      <th></th>\n",
       "      <th></th>\n",
       "      <th></th>\n",
       "      <th></th>\n",
       "    </tr>\n",
       "  </thead>\n",
       "  <tbody>\n",
       "    <tr>\n",
       "      <th>2020-07-14 04:00:00+00:00</th>\n",
       "      <td>118.58</td>\n",
       "      <td>118.74</td>\n",
       "      <td>118.58</td>\n",
       "      <td>118.67</td>\n",
       "      <td>3986773</td>\n",
       "      <td>14581</td>\n",
       "      <td>118.667215</td>\n",
       "      <td>313.25</td>\n",
       "      <td>319.76</td>\n",
       "      <td>312.0</td>\n",
       "      <td>318.92</td>\n",
       "      <td>93545660</td>\n",
       "      <td>580271</td>\n",
       "      <td>316.244144</td>\n",
       "    </tr>\n",
       "  </tbody>\n",
       "</table>\n",
       "</div>"
      ],
      "text/plain": [
       "                              AGG                                   \\\n",
       "                             open    high     low   close   volume   \n",
       "timestamp                                                            \n",
       "2020-07-14 04:00:00+00:00  118.58  118.74  118.58  118.67  3986773   \n",
       "\n",
       "                                                      SPY                 \\\n",
       "                          trade_count        vwap    open    high    low   \n",
       "timestamp                                                                  \n",
       "2020-07-14 04:00:00+00:00       14581  118.667215  313.25  319.76  312.0   \n",
       "\n",
       "                                                                     \n",
       "                            close    volume trade_count        vwap  \n",
       "timestamp                                                            \n",
       "2020-07-14 04:00:00+00:00  318.92  93545660      580271  316.244144  "
      ]
     },
     "execution_count": 50,
     "metadata": {},
     "output_type": "execute_result"
    }
   ],
   "source": [
    "# Format current date as ISO format\n",
    "today = pd.Timestamp(\"2020-07-14\", tz=\"America/New_York\").isoformat()\n",
    "\n",
    "# Set the tickers\n",
    "tickers = [\"AGG\", \"SPY\"]\n",
    "\n",
    "# Set timeframe to \"1Day\" for Alpaca API\n",
    "timeframe = \"1Day\"\n",
    "\n",
    "# Get current closing prices for SPY and AGG\n",
    "\n",
    "# Get current closing prices for FB and TWTR\n",
    "df_portfolio = alpaca.get_bars(\n",
    "    tickers,\n",
    "    timeframe,\n",
    "    start = today,\n",
    "    end = today\n",
    ").df\n",
    "\n",
    "# Display sample data\n",
    "df_portfolio\n",
    "# YOUR CODE HERE!\n",
    "\n",
    "# Reorganize the DataFrame\n",
    "\n",
    "# Separate ticker data\n",
    "AGG = df_portfolio[df_portfolio['symbol']=='AGG'].drop('symbol', axis=1)\n",
    "SPY = df_portfolio[df_portfolio['symbol']=='SPY'].drop('symbol', axis=1)\n",
    "\n",
    "# Concatenate the ticker DataFrames\n",
    "df_portfolio_concat = pd.concat([AGG, SPY],axis=1, keys=['AGG','SPY'])\n",
    "\n",
    "# Display sample data\n",
    "df_portfolio_concat\n",
    "\n",
    "# Concatenate the ticker DataFrames\n",
    "# YOUR CODE HERE!\n",
    "\n",
    "# Preview DataFrame\n",
    "# YOUR CODE HERE!"
   ]
  },
  {
   "cell_type": "code",
   "execution_count": 51,
   "metadata": {},
   "outputs": [],
   "source": [
    "#df_portfolio_concat[\"AGG\"][\"volume\"][0] * 10"
   ]
  },
  {
   "cell_type": "code",
   "execution_count": 52,
   "metadata": {},
   "outputs": [
    {
     "name": "stdout",
     "output_type": "stream",
     "text": [
      "Current AGG closing price: $ 118.67\n",
      "Current SPY closing price: $ 318.92\n"
     ]
    }
   ],
   "source": [
    "# Pick AGG and SPY close prices\n",
    "#create empty dataframe for closing price\n",
    "df_closing_prices = pd.DataFrame()\n",
    "\n",
    "# for Datatype change \n",
    "\n",
    "\n",
    "\n",
    "# YOUR CODE HERE!\n",
    "agg_close_price =  df_portfolio_concat[\"AGG\"][\"close\"][0]\n",
    "spy_close_price = df_portfolio_concat[\"SPY\"][\"close\"][0]\n",
    "\n",
    "#Drop time component from date\n",
    "\n",
    "# df_closing_prices.index = df_closing_prices.astype(float)\n",
    "\n",
    "\n",
    "# Print AGG and SPY close prices\n",
    "print(f'Current AGG closing price: $ {agg_close_price}')\n",
    "print(f'Current SPY closing price: $ {spy_close_price}')"
   ]
  },
  {
   "cell_type": "code",
   "execution_count": 53,
   "metadata": {},
   "outputs": [],
   "source": [
    "# Compute the current value of shares\n",
    "# YOUR CODE HERE!\n",
    "my_spy_value = (spy_close_price * my_spy)\n",
    "my_agg_value = (agg_close_price * my_agg)\n",
    "current_share_value = (my_agg_value + my_spy_value)\n"
   ]
  },
  {
   "cell_type": "code",
   "execution_count": 54,
   "metadata": {},
   "outputs": [
    {
     "name": "stdout",
     "output_type": "stream",
     "text": [
      "The current value of your 50 SPY shares is:  $ 15946.0\n",
      "The current value of your 200 AGG shares is $ 23734.0\n"
     ]
    }
   ],
   "source": [
    "# Print current value of shares\n",
    "print(f\"The current value of your {my_spy} SPY shares is:  $ {my_spy_value}\")\n",
    "print(f\"The current value of your {my_agg} AGG shares is $ {my_agg_value}\")"
   ]
  },
  {
   "cell_type": "markdown",
   "metadata": {},
   "source": [
    "### Savings Health Analysis"
   ]
  },
  {
   "cell_type": "code",
   "execution_count": 55,
   "metadata": {},
   "outputs": [
    {
     "data": {
      "text/html": [
       "<div>\n",
       "<style scoped>\n",
       "    .dataframe tbody tr th:only-of-type {\n",
       "        vertical-align: middle;\n",
       "    }\n",
       "\n",
       "    .dataframe tbody tr th {\n",
       "        vertical-align: top;\n",
       "    }\n",
       "\n",
       "    .dataframe thead th {\n",
       "        text-align: right;\n",
       "    }\n",
       "</style>\n",
       "<table border=\"1\" class=\"dataframe\">\n",
       "  <thead>\n",
       "    <tr style=\"text-align: right;\">\n",
       "      <th></th>\n",
       "      <th>Amount</th>\n",
       "    </tr>\n",
       "  </thead>\n",
       "  <tbody>\n",
       "    <tr>\n",
       "      <th>Crypto</th>\n",
       "      <td>41331.75053</td>\n",
       "    </tr>\n",
       "    <tr>\n",
       "      <th>Shares</th>\n",
       "      <td>39680.00000</td>\n",
       "    </tr>\n",
       "  </tbody>\n",
       "</table>\n",
       "</div>"
      ],
      "text/plain": [
       "             Amount\n",
       "Crypto  41331.75053\n",
       "Shares  39680.00000"
      ]
     },
     "metadata": {},
     "output_type": "display_data"
    }
   ],
   "source": [
    "# Set monthly household income\n",
    "# YOUR CODE HERE!\n",
    "monthly_income = 12000\n",
    "data = [current_crypto_value, current_share_value]\n",
    "\n",
    "df_savings = pd.DataFrame(data, columns = [\"Amount\"], index = [\"Crypto\", \"Shares\"])\n",
    "\n",
    "\n",
    "# Consolidate financial assets data\n",
    "# YOUR CODE HERE!\n",
    "\n",
    "# Create savings DataFrame\n",
    "# YOUR CODE HERE!\n",
    "\n",
    "# Display savings DataFrame\n",
    "display(df_savings)"
   ]
  },
  {
   "cell_type": "code",
   "execution_count": 56,
   "metadata": {},
   "outputs": [
    {
     "data": {
      "text/plain": [
       "array([<AxesSubplot:ylabel='Amount'>], dtype=object)"
      ]
     },
     "execution_count": 56,
     "metadata": {},
     "output_type": "execute_result"
    },
    {
     "data": {
      "image/png": "[encoded data removed]",
      "text/plain": [
       "<Figure size 432x288 with 1 Axes>"
      ]
     },
     "metadata": {},
     "output_type": "display_data"
    }
   ],
   "source": [
    "# Plot savings pie chart\n",
    "df_savings.plot.pie(subplots=True)\n",
    "# YOUR CODE HERE!"
   ]
  },
  {
   "cell_type": "code",
   "execution_count": null,
   "metadata": {},
   "outputs": [],
   "source": []
  },
  {
   "cell_type": "code",
   "execution_count": 57,
   "metadata": {},
   "outputs": [
    {
     "name": "stdout",
     "output_type": "stream",
     "text": [
      "Congratulations on reaching your financial goals\n"
     ]
    }
   ],
   "source": [
    "# Set ideal emergency fund\n",
    "emergency_fund = monthly_income * 3 \n",
    "savings= df_savings['Amount'].sum()\n",
    "\n",
    "saving_amount = (emergency_fund - savings)\n",
    "\n",
    "# Calculate total amount of savings\n",
    "\n",
    "if savings>emergency_fund:\n",
    "    print(f\"Congratulations on reaching your financial goals\")\n",
    "elif savings < emergency_fund:\n",
    "    print(f\"you need to save {saving_amount} to reach your goals\")\n",
    "else:\n",
    "    print(f\"You need to save  to reach your goal\")\n",
    "\n",
    "# YOUR CODE HERE!\n",
    "\n",
    "# Validate saving health\n",
    "# YOUR CODE HERE!"
   ]
  },
  {
   "cell_type": "code",
   "execution_count": 58,
   "metadata": {},
   "outputs": [
    {
     "name": "stdout",
     "output_type": "stream",
     "text": [
      "Congratulations on having enough money in this fund\n"
     ]
    }
   ],
   "source": [
    "if savings==emergency_fund:\n",
    "    print(f\"Congratulations on reaching your financial goals\")\n",
    "elif savings > emergency_fund:\n",
    "    print(f\"Congratulations on having enough money in this fund\")\n",
    "else:\n",
    "    print(f\"You nee dto save\")"
   ]
  },
  {
   "cell_type": "markdown",
   "metadata": {},
   "source": [
    "## Part 2 - Retirement Planning\n",
    "\n",
    "### Monte Carlo Simulation"
   ]
  },
  {
   "cell_type": "code",
   "execution_count": 59,
   "metadata": {},
   "outputs": [],
   "source": [
    "# Set start and end dates of five years back from today.\n",
    "# Sample results may vary from the solution based on the time frame chosen\n",
    "start_date = pd.Timestamp('2016-05-01', tz='America/New_York').isoformat()\n",
    "end_date = pd.Timestamp('2021-05-01', tz='America/New_York').isoformat()"
   ]
  },
  {
   "cell_type": "code",
   "execution_count": 60,
   "metadata": {},
   "outputs": [
    {
     "data": {
      "text/html": [
       "<div>\n",
       "<style scoped>\n",
       "    .dataframe tbody tr th:only-of-type {\n",
       "        vertical-align: middle;\n",
       "    }\n",
       "\n",
       "    .dataframe tbody tr th {\n",
       "        vertical-align: top;\n",
       "    }\n",
       "\n",
       "    .dataframe thead tr th {\n",
       "        text-align: left;\n",
       "    }\n",
       "\n",
       "    .dataframe thead tr:last-of-type th {\n",
       "        text-align: right;\n",
       "    }\n",
       "</style>\n",
       "<table border=\"1\" class=\"dataframe\">\n",
       "  <thead>\n",
       "    <tr>\n",
       "      <th></th>\n",
       "      <th colspan=\"7\" halign=\"left\">SPY</th>\n",
       "      <th colspan=\"7\" halign=\"left\">AGG</th>\n",
       "    </tr>\n",
       "    <tr>\n",
       "      <th></th>\n",
       "      <th>open</th>\n",
       "      <th>high</th>\n",
       "      <th>low</th>\n",
       "      <th>close</th>\n",
       "      <th>volume</th>\n",
       "      <th>trade_count</th>\n",
       "      <th>vwap</th>\n",
       "      <th>open</th>\n",
       "      <th>high</th>\n",
       "      <th>low</th>\n",
       "      <th>close</th>\n",
       "      <th>volume</th>\n",
       "      <th>trade_count</th>\n",
       "      <th>vwap</th>\n",
       "    </tr>\n",
       "    <tr>\n",
       "      <th>timestamp</th>\n",
       "      <th></th>\n",
       "      <th></th>\n",
       "      <th></th>\n",
       "      <th></th>\n",
       "      <th></th>\n",
       "      <th></th>\n",
       "      <th></th>\n",
       "      <th></th>\n",
       "      <th></th>\n",
       "      <th></th>\n",
       "      <th></th>\n",
       "      <th></th>\n",
       "      <th></th>\n",
       "      <th></th>\n",
       "    </tr>\n",
       "  </thead>\n",
       "  <tbody>\n",
       "    <tr>\n",
       "      <th>2022-04-25 04:00:00+00:00</th>\n",
       "      <td>423.70</td>\n",
       "      <td>428.69</td>\n",
       "      <td>418.84</td>\n",
       "      <td>428.51</td>\n",
       "      <td>119103454</td>\n",
       "      <td>1139830</td>\n",
       "      <td>423.952513</td>\n",
       "      <td>103.47</td>\n",
       "      <td>103.93</td>\n",
       "      <td>103.470</td>\n",
       "      <td>103.63</td>\n",
       "      <td>8768318</td>\n",
       "      <td>31373</td>\n",
       "      <td>103.691097</td>\n",
       "    </tr>\n",
       "    <tr>\n",
       "      <th>2022-04-26 04:00:00+00:00</th>\n",
       "      <td>425.92</td>\n",
       "      <td>426.04</td>\n",
       "      <td>416.07</td>\n",
       "      <td>416.10</td>\n",
       "      <td>101074178</td>\n",
       "      <td>1001090</td>\n",
       "      <td>420.127020</td>\n",
       "      <td>104.13</td>\n",
       "      <td>104.13</td>\n",
       "      <td>103.800</td>\n",
       "      <td>103.95</td>\n",
       "      <td>8533802</td>\n",
       "      <td>30915</td>\n",
       "      <td>103.960003</td>\n",
       "    </tr>\n",
       "    <tr>\n",
       "      <th>2022-04-27 04:00:00+00:00</th>\n",
       "      <td>417.38</td>\n",
       "      <td>422.92</td>\n",
       "      <td>415.01</td>\n",
       "      <td>417.20</td>\n",
       "      <td>120771109</td>\n",
       "      <td>1005154</td>\n",
       "      <td>418.848698</td>\n",
       "      <td>103.94</td>\n",
       "      <td>104.01</td>\n",
       "      <td>103.530</td>\n",
       "      <td>103.53</td>\n",
       "      <td>11102819</td>\n",
       "      <td>39392</td>\n",
       "      <td>103.679752</td>\n",
       "    </tr>\n",
       "    <tr>\n",
       "      <th>2022-04-28 04:00:00+00:00</th>\n",
       "      <td>422.17</td>\n",
       "      <td>429.64</td>\n",
       "      <td>417.60</td>\n",
       "      <td>427.81</td>\n",
       "      <td>104665724</td>\n",
       "      <td>801719</td>\n",
       "      <td>424.039318</td>\n",
       "      <td>103.33</td>\n",
       "      <td>103.51</td>\n",
       "      <td>103.165</td>\n",
       "      <td>103.49</td>\n",
       "      <td>9901783</td>\n",
       "      <td>32976</td>\n",
       "      <td>103.361421</td>\n",
       "    </tr>\n",
       "    <tr>\n",
       "      <th>2022-04-29 04:00:00+00:00</th>\n",
       "      <td>423.56</td>\n",
       "      <td>425.87</td>\n",
       "      <td>411.21</td>\n",
       "      <td>412.00</td>\n",
       "      <td>145242451</td>\n",
       "      <td>1143618</td>\n",
       "      <td>416.879474</td>\n",
       "      <td>102.92</td>\n",
       "      <td>103.27</td>\n",
       "      <td>102.820</td>\n",
       "      <td>102.87</td>\n",
       "      <td>9922012</td>\n",
       "      <td>33928</td>\n",
       "      <td>103.003420</td>\n",
       "    </tr>\n",
       "  </tbody>\n",
       "</table>\n",
       "</div>"
      ],
      "text/plain": [
       "                              SPY                                     \\\n",
       "                             open    high     low   close     volume   \n",
       "timestamp                                                              \n",
       "2022-04-25 04:00:00+00:00  423.70  428.69  418.84  428.51  119103454   \n",
       "2022-04-26 04:00:00+00:00  425.92  426.04  416.07  416.10  101074178   \n",
       "2022-04-27 04:00:00+00:00  417.38  422.92  415.01  417.20  120771109   \n",
       "2022-04-28 04:00:00+00:00  422.17  429.64  417.60  427.81  104665724   \n",
       "2022-04-29 04:00:00+00:00  423.56  425.87  411.21  412.00  145242451   \n",
       "\n",
       "                                                      AGG                   \\\n",
       "                          trade_count        vwap    open    high      low   \n",
       "timestamp                                                                    \n",
       "2022-04-25 04:00:00+00:00     1139830  423.952513  103.47  103.93  103.470   \n",
       "2022-04-26 04:00:00+00:00     1001090  420.127020  104.13  104.13  103.800   \n",
       "2022-04-27 04:00:00+00:00     1005154  418.848698  103.94  104.01  103.530   \n",
       "2022-04-28 04:00:00+00:00      801719  424.039318  103.33  103.51  103.165   \n",
       "2022-04-29 04:00:00+00:00     1143618  416.879474  102.92  103.27  102.820   \n",
       "\n",
       "                                                                     \n",
       "                            close    volume trade_count        vwap  \n",
       "timestamp                                                            \n",
       "2022-04-25 04:00:00+00:00  103.63   8768318       31373  103.691097  \n",
       "2022-04-26 04:00:00+00:00  103.95   8533802       30915  103.960003  \n",
       "2022-04-27 04:00:00+00:00  103.53  11102819       39392  103.679752  \n",
       "2022-04-28 04:00:00+00:00  103.49   9901783       32976  103.361421  \n",
       "2022-04-29 04:00:00+00:00  102.87   9922012       33928  103.003420  "
      ]
     },
     "execution_count": 60,
     "metadata": {},
     "output_type": "execute_result"
    }
   ],
   "source": [
    "# Get 5 years' worth of historical data for SPY and AGG\n",
    "\n",
    "timeframe = \"1Day\"\n",
    "# YOUR CODE HERE!\n",
    "start_date = pd.Timestamp(\"2016-05-01\", tz=\"America/New_York\").isoformat()\n",
    "end_date = pd.Timestamp(\"2022-05-01\", tz=\"America/New_York\").isoformat()\n",
    "\n",
    "#set Tickers\n",
    "\n",
    "tickers = [\"SPY\", \"AGG\"]\n",
    "\n",
    "df_ticker = alpaca.get_bars(\n",
    "    tickers,\n",
    "    timeframe,\n",
    "    start=start_date,\n",
    "    end=end_date\n",
    ").df\n",
    "\n",
    "\n",
    "\n",
    "# Reorganize the DataFrame\n",
    "# Separate ticker data\n",
    "\n",
    "SPY = df_ticker[df_ticker['symbol']=='SPY'].drop('symbol', axis=1)\n",
    "AGG = df_ticker[df_ticker['symbol']=='AGG'].drop('symbol', axis=1)\n",
    "\n",
    "\n",
    "\n",
    "df_ticker = pd.concat([SPY, AGG], axis=1, keys=[\"SPY\", \"AGG\"])\n",
    "# YOUR CODE HERE!\n",
    "\n",
    "\n",
    "# Concatenate the ticker DataFrames\n",
    "# YOUR CODE HERE!\n",
    "\n",
    "# Display sample data\n",
    "df_ticker.head()\n",
    "df_ticker.tail()"
   ]
  },
  {
   "cell_type": "code",
   "execution_count": 61,
   "metadata": {},
   "outputs": [],
   "source": [
    "# Configuring a Monte Carlo simulation to forecast 30 years cumulative returns\n",
    "# YOUR CODE HERE!\n",
    "MC_thirtyyear = MCSimulation(\n",
    "    portfolio_data = df_ticker,\n",
    "    weights = [.60,.40],\n",
    "    num_simulation = 1000,\n",
    "    num_trading_days = 252*30\n",
    ")"
   ]
  },
  {
   "cell_type": "code",
   "execution_count": 62,
   "metadata": {},
   "outputs": [
    {
     "data": {
      "text/html": [
       "<div>\n",
       "<style scoped>\n",
       "    .dataframe tbody tr th:only-of-type {\n",
       "        vertical-align: middle;\n",
       "    }\n",
       "\n",
       "    .dataframe tbody tr th {\n",
       "        vertical-align: top;\n",
       "    }\n",
       "\n",
       "    .dataframe thead tr th {\n",
       "        text-align: left;\n",
       "    }\n",
       "\n",
       "    .dataframe thead tr:last-of-type th {\n",
       "        text-align: right;\n",
       "    }\n",
       "</style>\n",
       "<table border=\"1\" class=\"dataframe\">\n",
       "  <thead>\n",
       "    <tr>\n",
       "      <th></th>\n",
       "      <th colspan=\"8\" halign=\"left\">SPY</th>\n",
       "      <th colspan=\"8\" halign=\"left\">AGG</th>\n",
       "    </tr>\n",
       "    <tr>\n",
       "      <th></th>\n",
       "      <th>open</th>\n",
       "      <th>high</th>\n",
       "      <th>low</th>\n",
       "      <th>close</th>\n",
       "      <th>volume</th>\n",
       "      <th>trade_count</th>\n",
       "      <th>vwap</th>\n",
       "      <th>daily_return</th>\n",
       "      <th>open</th>\n",
       "      <th>high</th>\n",
       "      <th>low</th>\n",
       "      <th>close</th>\n",
       "      <th>volume</th>\n",
       "      <th>trade_count</th>\n",
       "      <th>vwap</th>\n",
       "      <th>daily_return</th>\n",
       "    </tr>\n",
       "    <tr>\n",
       "      <th>timestamp</th>\n",
       "      <th></th>\n",
       "      <th></th>\n",
       "      <th></th>\n",
       "      <th></th>\n",
       "      <th></th>\n",
       "      <th></th>\n",
       "      <th></th>\n",
       "      <th></th>\n",
       "      <th></th>\n",
       "      <th></th>\n",
       "      <th></th>\n",
       "      <th></th>\n",
       "      <th></th>\n",
       "      <th></th>\n",
       "      <th></th>\n",
       "      <th></th>\n",
       "    </tr>\n",
       "  </thead>\n",
       "  <tbody>\n",
       "    <tr>\n",
       "      <th>2016-05-02 04:00:00+00:00</th>\n",
       "      <td>206.90</td>\n",
       "      <td>208.18</td>\n",
       "      <td>206.41</td>\n",
       "      <td>208.03</td>\n",
       "      <td>61908515</td>\n",
       "      <td>263580</td>\n",
       "      <td>207.294812</td>\n",
       "      <td>NaN</td>\n",
       "      <td>110.74</td>\n",
       "      <td>110.7400</td>\n",
       "      <td>110.5200</td>\n",
       "      <td>110.61</td>\n",
       "      <td>3553939</td>\n",
       "      <td>15119</td>\n",
       "      <td>110.627199</td>\n",
       "      <td>NaN</td>\n",
       "    </tr>\n",
       "    <tr>\n",
       "      <th>2016-05-03 04:00:00+00:00</th>\n",
       "      <td>206.50</td>\n",
       "      <td>206.80</td>\n",
       "      <td>205.28</td>\n",
       "      <td>206.13</td>\n",
       "      <td>106422142</td>\n",
       "      <td>377518</td>\n",
       "      <td>206.312060</td>\n",
       "      <td>-0.009133</td>\n",
       "      <td>110.89</td>\n",
       "      <td>110.9450</td>\n",
       "      <td>110.7500</td>\n",
       "      <td>110.81</td>\n",
       "      <td>3044940</td>\n",
       "      <td>15662</td>\n",
       "      <td>110.865995</td>\n",
       "      <td>0.001808</td>\n",
       "    </tr>\n",
       "    <tr>\n",
       "      <th>2016-05-04 04:00:00+00:00</th>\n",
       "      <td>205.00</td>\n",
       "      <td>205.85</td>\n",
       "      <td>204.42</td>\n",
       "      <td>204.96</td>\n",
       "      <td>92199810</td>\n",
       "      <td>345261</td>\n",
       "      <td>205.090172</td>\n",
       "      <td>-0.005676</td>\n",
       "      <td>110.91</td>\n",
       "      <td>110.9315</td>\n",
       "      <td>110.7595</td>\n",
       "      <td>110.86</td>\n",
       "      <td>2920608</td>\n",
       "      <td>13982</td>\n",
       "      <td>110.879063</td>\n",
       "      <td>0.000451</td>\n",
       "    </tr>\n",
       "    <tr>\n",
       "      <th>2016-05-05 04:00:00+00:00</th>\n",
       "      <td>205.57</td>\n",
       "      <td>205.98</td>\n",
       "      <td>204.47</td>\n",
       "      <td>204.95</td>\n",
       "      <td>67597222</td>\n",
       "      <td>280622</td>\n",
       "      <td>205.141555</td>\n",
       "      <td>-0.000049</td>\n",
       "      <td>110.92</td>\n",
       "      <td>111.1600</td>\n",
       "      <td>110.8010</td>\n",
       "      <td>111.14</td>\n",
       "      <td>3008142</td>\n",
       "      <td>15707</td>\n",
       "      <td>111.028363</td>\n",
       "      <td>0.002526</td>\n",
       "    </tr>\n",
       "    <tr>\n",
       "      <th>2016-05-06 04:00:00+00:00</th>\n",
       "      <td>204.04</td>\n",
       "      <td>205.77</td>\n",
       "      <td>203.88</td>\n",
       "      <td>205.70</td>\n",
       "      <td>89131004</td>\n",
       "      <td>340335</td>\n",
       "      <td>204.937074</td>\n",
       "      <td>0.003659</td>\n",
       "      <td>111.12</td>\n",
       "      <td>111.1200</td>\n",
       "      <td>110.9700</td>\n",
       "      <td>110.97</td>\n",
       "      <td>2718710</td>\n",
       "      <td>12697</td>\n",
       "      <td>111.031967</td>\n",
       "      <td>-0.001530</td>\n",
       "    </tr>\n",
       "  </tbody>\n",
       "</table>\n",
       "</div>"
      ],
      "text/plain": [
       "                              SPY                                     \\\n",
       "                             open    high     low   close     volume   \n",
       "timestamp                                                              \n",
       "2016-05-02 04:00:00+00:00  206.90  208.18  206.41  208.03   61908515   \n",
       "2016-05-03 04:00:00+00:00  206.50  206.80  205.28  206.13  106422142   \n",
       "2016-05-04 04:00:00+00:00  205.00  205.85  204.42  204.96   92199810   \n",
       "2016-05-05 04:00:00+00:00  205.57  205.98  204.47  204.95   67597222   \n",
       "2016-05-06 04:00:00+00:00  204.04  205.77  203.88  205.70   89131004   \n",
       "\n",
       "                                                                   AGG  \\\n",
       "                          trade_count        vwap daily_return    open   \n",
       "timestamp                                                                \n",
       "2016-05-02 04:00:00+00:00      263580  207.294812          NaN  110.74   \n",
       "2016-05-03 04:00:00+00:00      377518  206.312060    -0.009133  110.89   \n",
       "2016-05-04 04:00:00+00:00      345261  205.090172    -0.005676  110.91   \n",
       "2016-05-05 04:00:00+00:00      280622  205.141555    -0.000049  110.92   \n",
       "2016-05-06 04:00:00+00:00      340335  204.937074     0.003659  111.12   \n",
       "\n",
       "                                                                            \\\n",
       "                               high       low   close   volume trade_count   \n",
       "timestamp                                                                    \n",
       "2016-05-02 04:00:00+00:00  110.7400  110.5200  110.61  3553939       15119   \n",
       "2016-05-03 04:00:00+00:00  110.9450  110.7500  110.81  3044940       15662   \n",
       "2016-05-04 04:00:00+00:00  110.9315  110.7595  110.86  2920608       13982   \n",
       "2016-05-05 04:00:00+00:00  111.1600  110.8010  111.14  3008142       15707   \n",
       "2016-05-06 04:00:00+00:00  111.1200  110.9700  110.97  2718710       12697   \n",
       "\n",
       "                                                    \n",
       "                                 vwap daily_return  \n",
       "timestamp                                           \n",
       "2016-05-02 04:00:00+00:00  110.627199          NaN  \n",
       "2016-05-03 04:00:00+00:00  110.865995     0.001808  \n",
       "2016-05-04 04:00:00+00:00  110.879063     0.000451  \n",
       "2016-05-05 04:00:00+00:00  111.028363     0.002526  \n",
       "2016-05-06 04:00:00+00:00  111.031967    -0.001530  "
      ]
     },
     "execution_count": 62,
     "metadata": {},
     "output_type": "execute_result"
    }
   ],
   "source": [
    "# Printing the simulation input data\n",
    "MC_thirtyyear.portfolio_data.head() \n",
    "\n",
    "# YOUR CODE HERE!"
   ]
  },
  {
   "cell_type": "code",
   "execution_count": 63,
   "metadata": {},
   "outputs": [
    {
     "name": "stdout",
     "output_type": "stream",
     "text": [
      "Running Monte Carlo simulation number 0.\n",
      "Running Monte Carlo simulation number 10.\n",
      "Running Monte Carlo simulation number 20.\n",
      "Running Monte Carlo simulation number 30.\n",
      "Running Monte Carlo simulation number 40.\n",
      "Running Monte Carlo simulation number 50.\n",
      "Running Monte Carlo simulation number 60.\n",
      "Running Monte Carlo simulation number 70.\n",
      "Running Monte Carlo simulation number 80.\n",
      "Running Monte Carlo simulation number 90.\n",
      "Running Monte Carlo simulation number 100.\n"
     ]
    },
    {
     "name": "stderr",
     "output_type": "stream",
     "text": [
      "c:\\Users\\ganes\\Desktop\\Bootcamp\\Working_Files\\Public\\Assignments\\assignment_5\\MCForecastTools.py:117: PerformanceWarning: DataFrame is highly fragmented.  This is usually the result of calling `frame.insert` many times, which has poor performance.  Consider joining all columns at once using pd.concat(axis=1) instead.  To get a de-fragmented frame, use `newframe = frame.copy()`\n",
      "  portfolio_cumulative_returns[n] = (1 + sim_df.fillna(0)).cumprod()\n"
     ]
    },
    {
     "name": "stdout",
     "output_type": "stream",
     "text": [
      "Running Monte Carlo simulation number 110.\n",
      "Running Monte Carlo simulation number 120.\n",
      "Running Monte Carlo simulation number 130.\n",
      "Running Monte Carlo simulation number 140.\n",
      "Running Monte Carlo simulation number 150.\n",
      "Running Monte Carlo simulation number 160.\n",
      "Running Monte Carlo simulation number 170.\n",
      "Running Monte Carlo simulation number 180.\n",
      "Running Monte Carlo simulation number 190.\n",
      "Running Monte Carlo simulation number 200.\n",
      "Running Monte Carlo simulation number 210.\n",
      "Running Monte Carlo simulation number 220.\n",
      "Running Monte Carlo simulation number 230.\n",
      "Running Monte Carlo simulation number 240.\n",
      "Running Monte Carlo simulation number 250.\n",
      "Running Monte Carlo simulation number 260.\n",
      "Running Monte Carlo simulation number 270.\n",
      "Running Monte Carlo simulation number 280.\n",
      "Running Monte Carlo simulation number 290.\n",
      "Running Monte Carlo simulation number 300.\n",
      "Running Monte Carlo simulation number 310.\n",
      "Running Monte Carlo simulation number 320.\n",
      "Running Monte Carlo simulation number 330.\n",
      "Running Monte Carlo simulation number 340.\n",
      "Running Monte Carlo simulation number 350.\n",
      "Running Monte Carlo simulation number 360.\n",
      "Running Monte Carlo simulation number 370.\n",
      "Running Monte Carlo simulation number 380.\n",
      "Running Monte Carlo simulation number 390.\n",
      "Running Monte Carlo simulation number 400.\n",
      "Running Monte Carlo simulation number 410.\n",
      "Running Monte Carlo simulation number 420.\n",
      "Running Monte Carlo simulation number 430.\n",
      "Running Monte Carlo simulation number 440.\n",
      "Running Monte Carlo simulation number 450.\n",
      "Running Monte Carlo simulation number 460.\n",
      "Running Monte Carlo simulation number 470.\n",
      "Running Monte Carlo simulation number 480.\n",
      "Running Monte Carlo simulation number 490.\n",
      "Running Monte Carlo simulation number 500.\n",
      "Running Monte Carlo simulation number 510.\n",
      "Running Monte Carlo simulation number 520.\n",
      "Running Monte Carlo simulation number 530.\n",
      "Running Monte Carlo simulation number 540.\n",
      "Running Monte Carlo simulation number 550.\n",
      "Running Monte Carlo simulation number 560.\n",
      "Running Monte Carlo simulation number 570.\n",
      "Running Monte Carlo simulation number 580.\n",
      "Running Monte Carlo simulation number 590.\n",
      "Running Monte Carlo simulation number 600.\n",
      "Running Monte Carlo simulation number 610.\n",
      "Running Monte Carlo simulation number 620.\n",
      "Running Monte Carlo simulation number 630.\n",
      "Running Monte Carlo simulation number 640.\n",
      "Running Monte Carlo simulation number 650.\n",
      "Running Monte Carlo simulation number 660.\n",
      "Running Monte Carlo simulation number 670.\n",
      "Running Monte Carlo simulation number 680.\n",
      "Running Monte Carlo simulation number 690.\n",
      "Running Monte Carlo simulation number 700.\n",
      "Running Monte Carlo simulation number 710.\n",
      "Running Monte Carlo simulation number 720.\n",
      "Running Monte Carlo simulation number 730.\n",
      "Running Monte Carlo simulation number 740.\n",
      "Running Monte Carlo simulation number 750.\n",
      "Running Monte Carlo simulation number 760.\n",
      "Running Monte Carlo simulation number 770.\n",
      "Running Monte Carlo simulation number 780.\n",
      "Running Monte Carlo simulation number 790.\n",
      "Running Monte Carlo simulation number 800.\n",
      "Running Monte Carlo simulation number 810.\n",
      "Running Monte Carlo simulation number 820.\n",
      "Running Monte Carlo simulation number 830.\n",
      "Running Monte Carlo simulation number 840.\n",
      "Running Monte Carlo simulation number 850.\n",
      "Running Monte Carlo simulation number 860.\n",
      "Running Monte Carlo simulation number 870.\n",
      "Running Monte Carlo simulation number 880.\n",
      "Running Monte Carlo simulation number 890.\n",
      "Running Monte Carlo simulation number 900.\n",
      "Running Monte Carlo simulation number 910.\n",
      "Running Monte Carlo simulation number 920.\n",
      "Running Monte Carlo simulation number 930.\n",
      "Running Monte Carlo simulation number 940.\n",
      "Running Monte Carlo simulation number 950.\n",
      "Running Monte Carlo simulation number 960.\n",
      "Running Monte Carlo simulation number 970.\n",
      "Running Monte Carlo simulation number 980.\n",
      "Running Monte Carlo simulation number 990.\n"
     ]
    },
    {
     "data": {
      "text/html": [
       "<div>\n",
       "<style scoped>\n",
       "    .dataframe tbody tr th:only-of-type {\n",
       "        vertical-align: middle;\n",
       "    }\n",
       "\n",
       "    .dataframe tbody tr th {\n",
       "        vertical-align: top;\n",
       "    }\n",
       "\n",
       "    .dataframe thead th {\n",
       "        text-align: right;\n",
       "    }\n",
       "</style>\n",
       "<table border=\"1\" class=\"dataframe\">\n",
       "  <thead>\n",
       "    <tr style=\"text-align: right;\">\n",
       "      <th></th>\n",
       "      <th>0</th>\n",
       "      <th>1</th>\n",
       "      <th>2</th>\n",
       "      <th>3</th>\n",
       "      <th>4</th>\n",
       "      <th>5</th>\n",
       "      <th>6</th>\n",
       "      <th>7</th>\n",
       "      <th>8</th>\n",
       "      <th>9</th>\n",
       "      <th>...</th>\n",
       "      <th>990</th>\n",
       "      <th>991</th>\n",
       "      <th>992</th>\n",
       "      <th>993</th>\n",
       "      <th>994</th>\n",
       "      <th>995</th>\n",
       "      <th>996</th>\n",
       "      <th>997</th>\n",
       "      <th>998</th>\n",
       "      <th>999</th>\n",
       "    </tr>\n",
       "  </thead>\n",
       "  <tbody>\n",
       "    <tr>\n",
       "      <th>0</th>\n",
       "      <td>1.000000</td>\n",
       "      <td>1.000000</td>\n",
       "      <td>1.000000</td>\n",
       "      <td>1.000000</td>\n",
       "      <td>1.000000</td>\n",
       "      <td>1.000000</td>\n",
       "      <td>1.000000</td>\n",
       "      <td>1.000000</td>\n",
       "      <td>1.000000</td>\n",
       "      <td>1.000000</td>\n",
       "      <td>...</td>\n",
       "      <td>1.000000</td>\n",
       "      <td>1.000000</td>\n",
       "      <td>1.000000</td>\n",
       "      <td>1.000000</td>\n",
       "      <td>1.000000</td>\n",
       "      <td>1.000000</td>\n",
       "      <td>1.000000</td>\n",
       "      <td>1.000000</td>\n",
       "      <td>1.000000</td>\n",
       "      <td>1.000000</td>\n",
       "    </tr>\n",
       "    <tr>\n",
       "      <th>1</th>\n",
       "      <td>0.994778</td>\n",
       "      <td>0.992931</td>\n",
       "      <td>0.998270</td>\n",
       "      <td>1.003441</td>\n",
       "      <td>1.003228</td>\n",
       "      <td>1.010171</td>\n",
       "      <td>0.999018</td>\n",
       "      <td>1.003315</td>\n",
       "      <td>0.994639</td>\n",
       "      <td>0.980395</td>\n",
       "      <td>...</td>\n",
       "      <td>1.003205</td>\n",
       "      <td>0.999135</td>\n",
       "      <td>0.998237</td>\n",
       "      <td>1.005542</td>\n",
       "      <td>0.995245</td>\n",
       "      <td>0.997664</td>\n",
       "      <td>0.999453</td>\n",
       "      <td>0.990121</td>\n",
       "      <td>1.000844</td>\n",
       "      <td>1.008872</td>\n",
       "    </tr>\n",
       "    <tr>\n",
       "      <th>2</th>\n",
       "      <td>0.993482</td>\n",
       "      <td>0.994849</td>\n",
       "      <td>0.985437</td>\n",
       "      <td>1.003799</td>\n",
       "      <td>1.014724</td>\n",
       "      <td>1.007539</td>\n",
       "      <td>0.983169</td>\n",
       "      <td>1.001583</td>\n",
       "      <td>1.006060</td>\n",
       "      <td>0.970073</td>\n",
       "      <td>...</td>\n",
       "      <td>1.004162</td>\n",
       "      <td>0.992756</td>\n",
       "      <td>1.007127</td>\n",
       "      <td>0.997455</td>\n",
       "      <td>0.997924</td>\n",
       "      <td>0.985661</td>\n",
       "      <td>1.000256</td>\n",
       "      <td>0.994565</td>\n",
       "      <td>1.009256</td>\n",
       "      <td>1.008500</td>\n",
       "    </tr>\n",
       "    <tr>\n",
       "      <th>3</th>\n",
       "      <td>0.990798</td>\n",
       "      <td>1.004190</td>\n",
       "      <td>0.987153</td>\n",
       "      <td>1.000254</td>\n",
       "      <td>1.007697</td>\n",
       "      <td>1.006584</td>\n",
       "      <td>0.991374</td>\n",
       "      <td>1.003264</td>\n",
       "      <td>1.010106</td>\n",
       "      <td>0.975936</td>\n",
       "      <td>...</td>\n",
       "      <td>1.006526</td>\n",
       "      <td>0.983649</td>\n",
       "      <td>1.001666</td>\n",
       "      <td>0.996950</td>\n",
       "      <td>1.011230</td>\n",
       "      <td>0.993377</td>\n",
       "      <td>1.001170</td>\n",
       "      <td>0.986403</td>\n",
       "      <td>1.012235</td>\n",
       "      <td>1.018444</td>\n",
       "    </tr>\n",
       "    <tr>\n",
       "      <th>4</th>\n",
       "      <td>1.000924</td>\n",
       "      <td>1.007705</td>\n",
       "      <td>0.980329</td>\n",
       "      <td>1.008741</td>\n",
       "      <td>1.010251</td>\n",
       "      <td>1.006614</td>\n",
       "      <td>0.996648</td>\n",
       "      <td>1.001228</td>\n",
       "      <td>1.009909</td>\n",
       "      <td>0.982141</td>\n",
       "      <td>...</td>\n",
       "      <td>1.010909</td>\n",
       "      <td>0.992830</td>\n",
       "      <td>1.001582</td>\n",
       "      <td>1.000056</td>\n",
       "      <td>1.023988</td>\n",
       "      <td>0.991867</td>\n",
       "      <td>0.997024</td>\n",
       "      <td>1.001082</td>\n",
       "      <td>1.014787</td>\n",
       "      <td>1.014382</td>\n",
       "    </tr>\n",
       "    <tr>\n",
       "      <th>...</th>\n",
       "      <td>...</td>\n",
       "      <td>...</td>\n",
       "      <td>...</td>\n",
       "      <td>...</td>\n",
       "      <td>...</td>\n",
       "      <td>...</td>\n",
       "      <td>...</td>\n",
       "      <td>...</td>\n",
       "      <td>...</td>\n",
       "      <td>...</td>\n",
       "      <td>...</td>\n",
       "      <td>...</td>\n",
       "      <td>...</td>\n",
       "      <td>...</td>\n",
       "      <td>...</td>\n",
       "      <td>...</td>\n",
       "      <td>...</td>\n",
       "      <td>...</td>\n",
       "      <td>...</td>\n",
       "      <td>...</td>\n",
       "      <td>...</td>\n",
       "    </tr>\n",
       "    <tr>\n",
       "      <th>7556</th>\n",
       "      <td>5.831769</td>\n",
       "      <td>8.862156</td>\n",
       "      <td>3.836443</td>\n",
       "      <td>8.209669</td>\n",
       "      <td>7.648175</td>\n",
       "      <td>6.986021</td>\n",
       "      <td>5.585053</td>\n",
       "      <td>5.446452</td>\n",
       "      <td>5.965496</td>\n",
       "      <td>6.399544</td>\n",
       "      <td>...</td>\n",
       "      <td>12.191588</td>\n",
       "      <td>3.776585</td>\n",
       "      <td>13.937200</td>\n",
       "      <td>8.713600</td>\n",
       "      <td>6.972555</td>\n",
       "      <td>10.885378</td>\n",
       "      <td>2.822178</td>\n",
       "      <td>14.444394</td>\n",
       "      <td>10.891148</td>\n",
       "      <td>6.721691</td>\n",
       "    </tr>\n",
       "    <tr>\n",
       "      <th>7557</th>\n",
       "      <td>5.755047</td>\n",
       "      <td>9.020908</td>\n",
       "      <td>3.876686</td>\n",
       "      <td>8.167958</td>\n",
       "      <td>7.468381</td>\n",
       "      <td>7.058773</td>\n",
       "      <td>5.595841</td>\n",
       "      <td>5.423360</td>\n",
       "      <td>5.976287</td>\n",
       "      <td>6.359374</td>\n",
       "      <td>...</td>\n",
       "      <td>12.214258</td>\n",
       "      <td>3.745412</td>\n",
       "      <td>13.891348</td>\n",
       "      <td>8.752661</td>\n",
       "      <td>6.963999</td>\n",
       "      <td>10.848409</td>\n",
       "      <td>2.834035</td>\n",
       "      <td>14.539333</td>\n",
       "      <td>10.852628</td>\n",
       "      <td>6.810308</td>\n",
       "    </tr>\n",
       "    <tr>\n",
       "      <th>7558</th>\n",
       "      <td>5.706482</td>\n",
       "      <td>8.879983</td>\n",
       "      <td>3.875663</td>\n",
       "      <td>8.199224</td>\n",
       "      <td>7.438196</td>\n",
       "      <td>7.085520</td>\n",
       "      <td>5.576694</td>\n",
       "      <td>5.397576</td>\n",
       "      <td>5.948099</td>\n",
       "      <td>6.375290</td>\n",
       "      <td>...</td>\n",
       "      <td>12.288482</td>\n",
       "      <td>3.770920</td>\n",
       "      <td>13.906263</td>\n",
       "      <td>8.820249</td>\n",
       "      <td>6.974263</td>\n",
       "      <td>10.909316</td>\n",
       "      <td>2.807678</td>\n",
       "      <td>14.651224</td>\n",
       "      <td>10.808380</td>\n",
       "      <td>6.827145</td>\n",
       "    </tr>\n",
       "    <tr>\n",
       "      <th>7559</th>\n",
       "      <td>5.705028</td>\n",
       "      <td>8.970533</td>\n",
       "      <td>3.846746</td>\n",
       "      <td>8.222440</td>\n",
       "      <td>7.344883</td>\n",
       "      <td>7.101724</td>\n",
       "      <td>5.585819</td>\n",
       "      <td>5.390302</td>\n",
       "      <td>6.021541</td>\n",
       "      <td>6.342817</td>\n",
       "      <td>...</td>\n",
       "      <td>12.352514</td>\n",
       "      <td>3.798367</td>\n",
       "      <td>13.903073</td>\n",
       "      <td>8.845652</td>\n",
       "      <td>6.963270</td>\n",
       "      <td>10.982663</td>\n",
       "      <td>2.820220</td>\n",
       "      <td>14.744668</td>\n",
       "      <td>10.891778</td>\n",
       "      <td>6.829152</td>\n",
       "    </tr>\n",
       "    <tr>\n",
       "      <th>7560</th>\n",
       "      <td>5.712518</td>\n",
       "      <td>8.931498</td>\n",
       "      <td>3.865115</td>\n",
       "      <td>8.189768</td>\n",
       "      <td>7.360198</td>\n",
       "      <td>7.099343</td>\n",
       "      <td>5.483369</td>\n",
       "      <td>5.407201</td>\n",
       "      <td>5.977413</td>\n",
       "      <td>6.375507</td>\n",
       "      <td>...</td>\n",
       "      <td>12.277920</td>\n",
       "      <td>3.745366</td>\n",
       "      <td>13.809275</td>\n",
       "      <td>8.895168</td>\n",
       "      <td>7.005553</td>\n",
       "      <td>11.099580</td>\n",
       "      <td>2.811378</td>\n",
       "      <td>14.664727</td>\n",
       "      <td>10.959306</td>\n",
       "      <td>6.723986</td>\n",
       "    </tr>\n",
       "  </tbody>\n",
       "</table>\n",
       "<p>7561 rows × 1000 columns</p>\n",
       "</div>"
      ],
      "text/plain": [
       "           0         1         2         3         4         5         6    \\\n",
       "0     1.000000  1.000000  1.000000  1.000000  1.000000  1.000000  1.000000   \n",
       "1     0.994778  0.992931  0.998270  1.003441  1.003228  1.010171  0.999018   \n",
       "2     0.993482  0.994849  0.985437  1.003799  1.014724  1.007539  0.983169   \n",
       "3     0.990798  1.004190  0.987153  1.000254  1.007697  1.006584  0.991374   \n",
       "4     1.000924  1.007705  0.980329  1.008741  1.010251  1.006614  0.996648   \n",
       "...        ...       ...       ...       ...       ...       ...       ...   \n",
       "7556  5.831769  8.862156  3.836443  8.209669  7.648175  6.986021  5.585053   \n",
       "7557  5.755047  9.020908  3.876686  8.167958  7.468381  7.058773  5.595841   \n",
       "7558  5.706482  8.879983  3.875663  8.199224  7.438196  7.085520  5.576694   \n",
       "7559  5.705028  8.970533  3.846746  8.222440  7.344883  7.101724  5.585819   \n",
       "7560  5.712518  8.931498  3.865115  8.189768  7.360198  7.099343  5.483369   \n",
       "\n",
       "           7         8         9    ...        990       991        992  \\\n",
       "0     1.000000  1.000000  1.000000  ...   1.000000  1.000000   1.000000   \n",
       "1     1.003315  0.994639  0.980395  ...   1.003205  0.999135   0.998237   \n",
       "2     1.001583  1.006060  0.970073  ...   1.004162  0.992756   1.007127   \n",
       "3     1.003264  1.010106  0.975936  ...   1.006526  0.983649   1.001666   \n",
       "4     1.001228  1.009909  0.982141  ...   1.010909  0.992830   1.001582   \n",
       "...        ...       ...       ...  ...        ...       ...        ...   \n",
       "7556  5.446452  5.965496  6.399544  ...  12.191588  3.776585  13.937200   \n",
       "7557  5.423360  5.976287  6.359374  ...  12.214258  3.745412  13.891348   \n",
       "7558  5.397576  5.948099  6.375290  ...  12.288482  3.770920  13.906263   \n",
       "7559  5.390302  6.021541  6.342817  ...  12.352514  3.798367  13.903073   \n",
       "7560  5.407201  5.977413  6.375507  ...  12.277920  3.745366  13.809275   \n",
       "\n",
       "           993       994        995       996        997        998       999  \n",
       "0     1.000000  1.000000   1.000000  1.000000   1.000000   1.000000  1.000000  \n",
       "1     1.005542  0.995245   0.997664  0.999453   0.990121   1.000844  1.008872  \n",
       "2     0.997455  0.997924   0.985661  1.000256   0.994565   1.009256  1.008500  \n",
       "3     0.996950  1.011230   0.993377  1.001170   0.986403   1.012235  1.018444  \n",
       "4     1.000056  1.023988   0.991867  0.997024   1.001082   1.014787  1.014382  \n",
       "...        ...       ...        ...       ...        ...        ...       ...  \n",
       "7556  8.713600  6.972555  10.885378  2.822178  14.444394  10.891148  6.721691  \n",
       "7557  8.752661  6.963999  10.848409  2.834035  14.539333  10.852628  6.810308  \n",
       "7558  8.820249  6.974263  10.909316  2.807678  14.651224  10.808380  6.827145  \n",
       "7559  8.845652  6.963270  10.982663  2.820220  14.744668  10.891778  6.829152  \n",
       "7560  8.895168  7.005553  11.099580  2.811378  14.664727  10.959306  6.723986  \n",
       "\n",
       "[7561 rows x 1000 columns]"
      ]
     },
     "execution_count": 63,
     "metadata": {},
     "output_type": "execute_result"
    }
   ],
   "source": [
    "# Running a Monte Carlo simulation to forecast 30 years cumulative returns\n",
    "\n",
    "MC_thirtyyear.calc_cumulative_return() \n",
    "# YOUR CODE HERE!"
   ]
  },
  {
   "cell_type": "code",
   "execution_count": 64,
   "metadata": {},
   "outputs": [
    {
     "data": {
      "image/png": "[encoded data removed]",
      "text/plain": [
       "<Figure size 432x288 with 1 Axes>"
      ]
     },
     "metadata": {
      "needs_background": "light"
     },
     "output_type": "display_data"
    }
   ],
   "source": [
    "# Plot simulation outcomes\n",
    "\n",
    "line_plot = MC_thirtyyear.plot_simulation()\n",
    "line_plot.get_figure().savefig(\"MC_thirtyyear_sim_plot.png\", bbox_inches=\"tight\") \n",
    "# YOUR CODE HERE!"
   ]
  },
  {
   "cell_type": "code",
   "execution_count": 65,
   "metadata": {},
   "outputs": [
    {
     "data": {
      "image/png": "[encoded data removed]",
      "text/plain": [
       "<Figure size 432x288 with 1 Axes>"
      ]
     },
     "metadata": {
      "needs_background": "light"
     },
     "output_type": "display_data"
    }
   ],
   "source": [
    "# Plot probability distribution and confidence intervals\n",
    "\n",
    "dist_plot = MC_thirtyyear.plot_distribution()\n",
    "dist_plot.get_figure().savefig('MC_thirtyyear_dist_plot.png',bbox_inches='tight') \n",
    "# YOUR CODE HERE!"
   ]
  },
  {
   "cell_type": "markdown",
   "metadata": {},
   "source": []
  },
  {
   "cell_type": "markdown",
   "metadata": {},
   "source": [
    "### Retirement Analysis"
   ]
  },
  {
   "cell_type": "code",
   "execution_count": 66,
   "metadata": {},
   "outputs": [
    {
     "name": "stdout",
     "output_type": "stream",
     "text": [
      "count           1000.000000\n",
      "mean               9.384731\n",
      "std                5.899961\n",
      "min                1.096651\n",
      "25%                5.274149\n",
      "50%                8.108425\n",
      "75%               11.732757\n",
      "max               43.649101\n",
      "95% CI Lower       2.462619\n",
      "95% CI Upper      24.917231\n",
      "Name: 7560, dtype: float64\n"
     ]
    }
   ],
   "source": [
    "# Fetch summary statistics from the Monte Carlo simulation results\n",
    "\n",
    "table = MC_thirtyyear.summarize_cumulative_return()\n",
    "# YOUR CODE HERE!\n",
    "print(table)\n",
    "# Print summary statistics\n",
    "# YOUR CODE HERE!"
   ]
  },
  {
   "cell_type": "markdown",
   "metadata": {},
   "source": [
    "### Calculate the expected portfolio return at the `95%` lower and upper confidence intervals based on a `$20,000` initial investment."
   ]
  },
  {
   "cell_type": "code",
   "execution_count": 67,
   "metadata": {},
   "outputs": [
    {
     "name": "stdout",
     "output_type": "stream",
     "text": [
      "There is a 95% chance that an initial investment of $20000 in the portfolio over the next 30 years will end within in the range of $49252.39 and $498344.62\n"
     ]
    }
   ],
   "source": [
    "# Set initial investment\n",
    "initial_investment = 20000\n",
    "\n",
    "# Use the lower and upper `95%` confidence intervals to calculate the range of the possible outcomes of our $20,000\n",
    "\n",
    "ci_lower = round(table[8]*20000,2)\n",
    "ci_upper = round(table[9]*20000,2)\n",
    "# YOUR CODE HERE!\n",
    "\n",
    "# Print results\n",
    "print(f\"There is a 95% chance that an initial investment of ${initial_investment} in the portfolio\"\n",
    "      f\" over the next 30 years will end within in the range of\"\n",
    "      f\" ${ci_lower} and ${ci_upper}\")"
   ]
  },
  {
   "cell_type": "markdown",
   "metadata": {},
   "source": [
    "### Calculate the expected portfolio return at the `95%` lower and upper confidence intervals based on a `50%` increase in the initial investment."
   ]
  },
  {
   "cell_type": "code",
   "execution_count": 68,
   "metadata": {},
   "outputs": [
    {
     "name": "stdout",
     "output_type": "stream",
     "text": [
      "There is a 95% chance that an initial investment of $20000 in the portfolio over the next 30 years will end within in the range of $73878.58 and $747516.93\n"
     ]
    }
   ],
   "source": [
    "# Set initial investment\n",
    "initial_investment2 = 20000 * 1.5\n",
    "\n",
    "# Use the lower and upper `95%` confidence intervals to calculate the range of the possible outcomes of our $30,000\n",
    "\n",
    "ci_lower = round(table[8]*initial_investment2,2)\n",
    "ci_upper = round(table[9]*initial_investment2,2)\n",
    "# YOUR CODE HERE!\n",
    "\n",
    "# Print results\n",
    "print(f\"There is a 95% chance that an initial investment of ${initial_investment} in the portfolio\"\n",
    "      f\" over the next 30 years will end within in the range of\"\n",
    "      f\" ${ci_lower} and ${ci_upper}\")"
   ]
  },
  {
   "cell_type": "markdown",
   "metadata": {},
   "source": [
    "## Optional Challenge - Early Retirement\n",
    "\n",
    "\n",
    "### Five Years Retirement Option"
   ]
  },
  {
   "cell_type": "code",
   "execution_count": 69,
   "metadata": {},
   "outputs": [],
   "source": [
    "# Configuring a Monte Carlo simulation to forecast 5 years cumulative returns\n",
    "# YOUR CODE HERE!"
   ]
  },
  {
   "cell_type": "code",
   "execution_count": 70,
   "metadata": {},
   "outputs": [],
   "source": [
    "# Running a Monte Carlo simulation to forecast 5 years cumulative returns\n",
    "# YOUR CODE HERE!"
   ]
  },
  {
   "cell_type": "code",
   "execution_count": 71,
   "metadata": {},
   "outputs": [],
   "source": [
    "# Plot simulation outcomes\n",
    "# YOUR CODE HERE!"
   ]
  },
  {
   "cell_type": "code",
   "execution_count": 72,
   "metadata": {},
   "outputs": [],
   "source": [
    "# Plot probability distribution and confidence intervals\n",
    "# YOUR CODE HERE!"
   ]
  },
  {
   "cell_type": "code",
   "execution_count": 73,
   "metadata": {},
   "outputs": [],
   "source": [
    "# Fetch summary statistics from the Monte Carlo simulation results\n",
    "# YOUR CODE HERE!\n",
    "\n",
    "# Print summary statistics\n",
    "# YOUR CODE HERE!"
   ]
  },
  {
   "cell_type": "code",
   "execution_count": 74,
   "metadata": {},
   "outputs": [
    {
     "ename": "NameError",
     "evalue": "name 'ci_lower_five' is not defined",
     "output_type": "error",
     "traceback": [
      "\u001b[1;31m---------------------------------------------------------------------------\u001b[0m",
      "\u001b[1;31mNameError\u001b[0m                                 Traceback (most recent call last)",
      "\u001b[1;32m~\\AppData\\Local\\Temp\\ipykernel_19484\\2498605119.py\u001b[0m in \u001b[0;36m<module>\u001b[1;34m\u001b[0m\n\u001b[0;32m      6\u001b[0m \u001b[1;33m\u001b[0m\u001b[0m\n\u001b[0;32m      7\u001b[0m \u001b[1;31m# Print results\u001b[0m\u001b[1;33m\u001b[0m\u001b[1;33m\u001b[0m\u001b[1;33m\u001b[0m\u001b[0m\n\u001b[1;32m----> 8\u001b[1;33m print(f\"There is a 95% chance that an initial investment of ${initial_investment} in the portfolio\"\n\u001b[0m\u001b[0;32m      9\u001b[0m       \u001b[1;34mf\" over the next 5 years will end within in the range of\"\u001b[0m\u001b[1;33m\u001b[0m\u001b[1;33m\u001b[0m\u001b[0m\n\u001b[0;32m     10\u001b[0m       f\" ${ci_lower_five} and ${ci_upper_five}\")\n",
      "\u001b[1;31mNameError\u001b[0m: name 'ci_lower_five' is not defined"
     ]
    }
   ],
   "source": [
    "# Set initial investment\n",
    "# YOUR CODE HERE!\n",
    "\n",
    "# Use the lower and upper `95%` confidence intervals to calculate the range of the possible outcomes of our $60,000\n",
    "# YOUR CODE HERE!\n",
    "\n",
    "# Print results\n",
    "print(f\"There is a 95% chance that an initial investment of ${initial_investment} in the portfolio\"\n",
    "      f\" over the next 5 years will end within in the range of\"\n",
    "      f\" ${ci_lower_five} and ${ci_upper_five}\")"
   ]
  },
  {
   "cell_type": "markdown",
   "metadata": {},
   "source": [
    "### Ten Years Retirement Option"
   ]
  },
  {
   "cell_type": "code",
   "execution_count": null,
   "metadata": {},
   "outputs": [],
   "source": [
    "# Configuring a Monte Carlo simulation to forecast 10 years cumulative returns\n",
    "# YOUR CODE HERE!"
   ]
  },
  {
   "cell_type": "code",
   "execution_count": null,
   "metadata": {},
   "outputs": [],
   "source": [
    "# Running a Monte Carlo simulation to forecast 10 years cumulative returns\n",
    "# YOUR CODE HERE!"
   ]
  },
  {
   "cell_type": "code",
   "execution_count": null,
   "metadata": {},
   "outputs": [],
   "source": [
    "# Plot simulation outcomes\n",
    "# YOUR CODE HERE!"
   ]
  },
  {
   "cell_type": "code",
   "execution_count": null,
   "metadata": {},
   "outputs": [],
   "source": [
    "# Plot probability distribution and confidence intervals\n",
    "# YOUR CODE HERE!"
   ]
  },
  {
   "cell_type": "code",
   "execution_count": null,
   "metadata": {},
   "outputs": [],
   "source": [
    "# Fetch summary statistics from the Monte Carlo simulation results\n",
    "# YOUR CODE HERE!\n",
    "\n",
    "# Print summary statistics\n",
    "# YOUR CODE HERE!"
   ]
  },
  {
   "cell_type": "code",
   "execution_count": null,
   "metadata": {},
   "outputs": [],
   "source": [
    "# Set initial investment\n",
    "# YOUR CODE HERE!\n",
    "\n",
    "# Use the lower and upper `95%` confidence intervals to calculate the range of the possible outcomes of our $60,000\n",
    "# YOUR CODE HERE!\n",
    "\n",
    "# Print results\n",
    "print(f\"There is a 95% chance that an initial investment of ${initial_investment} in the portfolio\"\n",
    "      f\" over the next 10 years will end within in the range of\"\n",
    "      f\" ${ci_lower_ten} and ${ci_upper_ten}\")"
   ]
  },
  {
   "cell_type": "code",
   "execution_count": null,
   "metadata": {},
   "outputs": [],
   "source": []
  }
 ],
 "metadata": {
  "kernelspec": {
   "display_name": "Python 3.7.13 ('alpaca')",
   "language": "python",
   "name": "python3"
  },
  "language_info": {
   "codemirror_mode": {
    "name": "ipython",
    "version": 3
   },
   "file_extension": ".py",
   "mimetype": "text/x-python",
   "name": "python",
   "nbconvert_exporter": "python",
   "pygments_lexer": "ipython3",
   "version": "3.7.13"
  },
  "nteract": {
   "version": "0.28.0"
  },
  "vscode": {
   "interpreter": {
    "hash": "3a57dd7719b6ec26e073991b807e3c8f9b44b086cef0356f4f7e2aa4f569a020"
   }
  }
 },
 "nbformat": 4,
 "nbformat_minor": 4
}
